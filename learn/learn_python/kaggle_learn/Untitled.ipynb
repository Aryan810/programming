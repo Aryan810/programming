{
 "cells": [
  {
   "cell_type": "code",
   "execution_count": 8,
   "id": "c2b9118a-5750-466e-b165-babc64fe2fca",
   "metadata": {},
   "outputs": [
    {
     "name": "stdout",
     "output_type": "stream",
     "text": [
      "Warning: Your Kaggle API key is readable by other users on this system! To fix this, you can run 'chmod 600 /Users/aryangupta/.kaggle/kaggle.json'\n",
      "DONE!\n"
     ]
    }
   ],
   "source": [
    "!kaggle competitions download -c titanic\n",
    "print(\"DONE!\")"
   ]
  },
  {
   "cell_type": "code",
   "execution_count": 9,
   "id": "87cdedfd-c85e-45e3-b249-f542766a2f1a",
   "metadata": {},
   "outputs": [
    {
     "name": "stdout",
     "output_type": "stream",
     "text": [
      "Archive:  titanic.zip\n",
      "  inflating: gender_submission.csv   \n",
      "  inflating: test.csv                \n",
      "  inflating: train.csv               \n"
     ]
    }
   ],
   "source": [
    "!unzip titanic.zip\n",
    "print(:"
   ]
  },
  {
   "cell_type": "code",
   "execution_count": null,
   "id": "2cb2fefa-ecc0-4aec-87c6-5b9e66fb33e8",
   "metadata": {},
   "outputs": [],
   "source": []
  }
 ],
 "metadata": {
  "kernelspec": {
   "display_name": "Python 3 (ipykernel)",
   "language": "python",
   "name": "python3"
  },
  "language_info": {
   "codemirror_mode": {
    "name": "ipython",
    "version": 3
   },
   "file_extension": ".py",
   "mimetype": "text/x-python",
   "name": "python",
   "nbconvert_exporter": "python",
   "pygments_lexer": "ipython3",
   "version": "3.12.4"
  }
 },
 "nbformat": 4,
 "nbformat_minor": 5
}
